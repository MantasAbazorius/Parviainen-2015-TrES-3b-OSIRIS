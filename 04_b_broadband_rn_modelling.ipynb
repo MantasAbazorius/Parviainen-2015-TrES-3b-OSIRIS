{
 "cells": [
  {
   "cell_type": "markdown",
   "metadata": {},
   "source": [
    "# TrES-3b: Broadband analysis assuming red noise \n",
    "\n",
    "*<a href=\"mailto:hannu.parviainen@physics.ox.ac.uk\">Hannu Parviainen</a>, University of Oxford*\n",
    "\n",
    "Here we carry out a basic MCMC parameter estimation using the broadband light curve created in the [02_light_curve_creation](02_light_curve_creation.ipynb) notebook. We assume normally-distributed correlated noise, modeled as a Gaussian process, and do the analysis for the two (with and without spectrum masking) light curve versions.\n",
    "\n",
    "This notebook is a part in a series of notebooks working as an appendix to Parviainen et al. (2015, submitted), aiming to make the analysis presented in the paper easily reproductable. The results and the figures presented in the paper can be reproduced by following these notebooks in the numbered order.\n",
    "\n",
    "*Dependencies:* See `000_README.ipynb` for the list of required Python packages, and how to install them."
   ]
  },
  {
   "cell_type": "markdown",
   "metadata": {},
   "source": [
    "# Parameter estimation from the broadband light curve assuming red noise "
   ]
  },
  {
   "cell_type": "code",
   "execution_count": 1,
   "metadata": {
    "collapsed": false
   },
   "outputs": [
    {
     "name": "stdout",
     "output_type": "stream",
     "text": [
      "Populating the interactive namespace from numpy and matplotlib\n"
     ]
    }
   ],
   "source": [
    "%pylab inline"
   ]
  },
  {
   "cell_type": "code",
   "execution_count": 3,
   "metadata": {
    "collapsed": false
   },
   "outputs": [],
   "source": [
    "import math as mt\n",
    "import pandas as pd\n",
    "import seaborn as sb\n",
    "\n",
    "from IPython.html.widgets import Text, IntProgress, HBox, VBox, HTML\n",
    "from pandas import HDFStore\n",
    "from emcee import EnsembleSampler\n",
    "from pyde.de import DiffEvol\n",
    "\n",
    "from src.lpf_wr import LPFunctionRN\n",
    "from core import *\n",
    "\n",
    "pb_filter_bb.name = 'white'"
   ]
  },
  {
   "cell_type": "markdown",
   "metadata": {},
   "source": [
    "## Create a wrapper class for the parameter estimation "
   ]
  },
  {
   "cell_type": "code",
   "execution_count": 4,
   "metadata": {
    "collapsed": false
   },
   "outputs": [],
   "source": [
    "class PE(object):\n",
    "    def __init__(self, wfname, n_walkers=100, n_threads=4):\n",
    "        df_aux = pd.read_hdf('results/light_curves.h5', 'aux')\n",
    "        df_lc  = pd.read_hdf('results/light_curves.h5', wfname)\n",
    "        msk = array(df_aux.bad_mask, dtype=np.bool)\n",
    "        \n",
    "        self.lpf = LPFunctionRN(array(df_aux.mjd-56846+0.5)[msk], df_lc.white[msk], df_aux.airmass[msk], n_threads)\n",
    "        self.de = DiffEvol(self.lpf, self.lpf.ps.bounds, n_walkers, maximize=True, C=0.85, F=0.25)\n",
    "        self.sampler = EnsembleSampler(self.de.n_pop, self.lpf.ps.ndim, self.lpf) \n",
    "                              \n",
    "        qc = self.lpf.lds.coeffs_qd()[0][0]\n",
    "        self.de._population[:,8] = normal(qc[0], 0.05, size=n_walkers) \n",
    "        self.de._population[:,9] = normal(qc[1], 0.05, size=n_walkers)\n",
    "                  \n",
    "            \n",
    "    def run_de(self, n_iter=250):\n",
    "        wp = IntProgress(value=0, max=n_iter)\n",
    "        wh = HTML(value='inf')\n",
    "        wb = VBox(children=[wp,wh])\n",
    "        display(wb)\n",
    "        for i, p in enumerate(self.de(n_iter)):\n",
    "            if i%25 == 0:\n",
    "                wp.value += 25\n",
    "                wh.value = 'DE maximum log posterior {:10.3f}'.format(-self.de.minimum_value)\n",
    "            \n",
    "            \n",
    "    def run_mcmc(self, n_iter=2500, thin=50):\n",
    "        pbar = IntProgress(max=n_iter)\n",
    "        display(pbar)\n",
    "        for i, c in enumerate(self.sampler.sample(self.de.population, iterations=n_iter, thin=thin)):\n",
    "            if i%50 == 0:\n",
    "                pbar.value += 50\n",
    "                \n",
    "                \n",
    "    def create_dataframe(self, burn=0, thin=1):\n",
    "        self.df = pd.DataFrame(self.fc(burn,thin), columns=self.lpf.ps.names)\n",
    "        self.df['k'] = sqrt(self.df['k2'])\n",
    "        return self.df     \n",
    "                \n",
    "        \n",
    "    def fc(self, burn=0, thin=1):\n",
    "        return self.chain[:,burn::thin,:].reshape([-1, self.chain.shape[2]])\n",
    "\n",
    "    \n",
    "    @property\n",
    "    def chain(self):\n",
    "        return self.sampler.chain"
   ]
  },
  {
   "cell_type": "markdown",
   "metadata": {},
   "source": [
    "## Run the unmasked LC analysis "
   ]
  },
  {
   "cell_type": "code",
   "execution_count": 5,
   "metadata": {
    "collapsed": false
   },
   "outputs": [],
   "source": [
    "pe_n = PE('final/bb_nomask')\n",
    "pe_n.run_de(300)\n",
    "pe_n.run_mcmc(10000)"
   ]
  },
  {
   "cell_type": "markdown",
   "metadata": {},
   "source": [
    "## Run the masked LC analysis "
   ]
  },
  {
   "cell_type": "code",
   "execution_count": 7,
   "metadata": {
    "collapsed": true
   },
   "outputs": [],
   "source": [
    "pe_m = PE('final/bb_masked')\n",
    "pe_m.run_de(300)\n",
    "pe_m.run_mcmc(10000)"
   ]
  },
  {
   "cell_type": "markdown",
   "metadata": {},
   "source": [
    "## Create and save the dataframes"
   ]
  },
  {
   "cell_type": "code",
   "execution_count": 8,
   "metadata": {
    "collapsed": true
   },
   "outputs": [],
   "source": [
    "dfn = pe_n.create_dataframe(20,2)\n",
    "dfm = pe_m.create_dataframe(10)"
   ]
  },
  {
   "cell_type": "code",
   "execution_count": 10,
   "metadata": {
    "collapsed": true
   },
   "outputs": [],
   "source": [
    "hdf = HDFStore(join('results','pe.h5'))\n",
    "hdf.put('bb/rn_nomask', dfn, format='table', data_columns=True)\n",
    "hdf.put('bb/rn_masked', dfm, format='table', data_columns=True)\n",
    "hdf.close()"
   ]
  },
  {
   "cell_type": "markdown",
   "metadata": {},
   "source": [
    "## Plots "
   ]
  },
  {
   "cell_type": "code",
   "execution_count": 17,
   "metadata": {
    "collapsed": false
   },
   "outputs": [],
   "source": [
    "def get_range(p):\n",
    "    pn = percentile(dfn[p], [0.25,99.75])\n",
    "    pm = percentile(dfm[p], [0.25,99.75])\n",
    "    return [min(pn[0],pm[0]),max(pn[1],pm[1])]"
   ]
  },
  {
   "cell_type": "code",
   "execution_count": 18,
   "metadata": {
    "collapsed": false
   },
   "outputs": [
    {
     "data": {
      "image/png": "[encoded data removed]",
      "text/plain": [
       "<matplotlib.figure.Figure at 0x7a6d950>"
      ]
     },
     "metadata": {},
     "output_type": "display_data"
    }
   ],
   "source": [
    "dfn['e_ppm'] = 1e6*dfn.e\n",
    "dfm['e_ppm'] = 1e6*dfm.e\n",
    "\n",
    "pars = 'tc rho b k e_ppm c x u v'.split()\n",
    "cp = sb.color_palette()\n",
    "\n",
    "with sb.axes_style('ticks'):\n",
    "    fig,axs = subplots(3,3,figsize=(14,8))\n",
    "    for i,p in enumerate(pars):\n",
    "        rng = get_range(p)\n",
    "        dfn[p].hist(ax=axs.flat[i], fc=cp[0], range=rng, label='no mask', grid=False, alpha=0.75)\n",
    "        dfm[p].hist(ax=axs.flat[i], fc=cp[1], range=rng, label='masked', grid=False, alpha=0.75)\n",
    "        setp(axs.flat[i].get_yticklabels(), visible=False)\n",
    "    axs.flat[0].legend()\n",
    "    sb.despine(fig)\n",
    "    fig.tight_layout()"
   ]
  },
  {
   "cell_type": "markdown",
   "metadata": {},
   "source": [
    "---\n",
    "<center> &copy; 2015 <a href=\"mailto:hannu.parviainen@physics.ox.ac.uk\">Hannu Parviainen</a></center>"
   ]
  }
 ],
 "metadata": {
  "kernelspec": {
   "display_name": "Python 2",
   "language": "python",
   "name": "python2"
  },
  "language_info": {
   "codemirror_mode": {
    "name": "ipython",
    "version": 2
   },
   "file_extension": ".py",
   "mimetype": "text/x-python",
   "name": "python",
   "nbconvert_exporter": "python",
   "pygments_lexer": "ipython2",
   "version": "2.7.3"
  }
 },
 "nbformat": 4,
 "nbformat_minor": 0
}
