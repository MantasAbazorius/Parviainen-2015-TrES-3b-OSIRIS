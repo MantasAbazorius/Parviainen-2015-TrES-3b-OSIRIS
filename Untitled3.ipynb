{
 "cells": [
  {
   "cell_type": "code",
   "execution_count": 1,
   "metadata": {
    "collapsed": true
   },
   "outputs": [],
   "source": [
    "import numpy as np"
   ]
  },
  {
   "cell_type": "code",
   "execution_count": 2,
   "metadata": {
    "collapsed": false
   },
   "outputs": [
    {
     "ename": "NameError",
     "evalue": "name 'UP' is not defined",
     "output_type": "error",
     "traceback": [
      "\u001b[0;31m---------------------------------------------------------------------------\u001b[0m",
      "\u001b[0;31mNameError\u001b[0m                                 Traceback (most recent call last)",
      "\u001b[0;32m<ipython-input-2-fc06cf13f72d>\u001b[0m in \u001b[0;36m<module>\u001b[0;34m()\u001b[0m\n\u001b[0;32m----> 1\u001b[0;31m np.priors = [UP(  0.605,   0.615,   'tc'),  ##  0  - Transit centre\n\u001b[0m\u001b[1;32m      2\u001b[0m                        \u001b[0mNP\u001b[0m\u001b[0;34m(\u001b[0m  \u001b[0;36m1.306\u001b[0m\u001b[0;34m,\u001b[0m   \u001b[0;36m1e-7\u001b[0m\u001b[0;34m,\u001b[0m     \u001b[0;34m'p'\u001b[0m\u001b[0;34m)\u001b[0m\u001b[0;34m,\u001b[0m  \u001b[0;31m##  1  - Period\u001b[0m\u001b[0;34m\u001b[0m\u001b[0m\n\u001b[1;32m      3\u001b[0m                        \u001b[0mUP\u001b[0m\u001b[0;34m(\u001b[0m  \u001b[0;36m1.500\u001b[0m\u001b[0;34m,\u001b[0m   \u001b[0;36m3.00\u001b[0m\u001b[0;34m,\u001b[0m   \u001b[0;34m'rho'\u001b[0m\u001b[0;34m)\u001b[0m\u001b[0;34m,\u001b[0m  \u001b[0;31m##  2  - Stellar density\u001b[0m\u001b[0;34m\u001b[0m\u001b[0m\n\u001b[1;32m      4\u001b[0m                        \u001b[0mUP\u001b[0m\u001b[0;34m(\u001b[0m  \u001b[0;36m0.000\u001b[0m\u001b[0;34m,\u001b[0m   \u001b[0;36m0.99\u001b[0m\u001b[0;34m,\u001b[0m     \u001b[0;34m'b'\u001b[0m\u001b[0;34m)\u001b[0m\u001b[0;34m,\u001b[0m  \u001b[0;31m##  3  - Impact parameter\u001b[0m\u001b[0;34m\u001b[0m\u001b[0m\n\u001b[1;32m      5\u001b[0m                        \u001b[0mUP\u001b[0m\u001b[0;34m(\u001b[0m \u001b[0;36m.15\u001b[0m\u001b[0;34m**\u001b[0m\u001b[0;36m2\u001b[0m\u001b[0;34m,\u001b[0m \u001b[0;36m.20\u001b[0m\u001b[0;34m**\u001b[0m\u001b[0;36m2\u001b[0m\u001b[0;34m,\u001b[0m    \u001b[0;34m'k2'\u001b[0m\u001b[0;34m)\u001b[0m\u001b[0;34m,\u001b[0m  \u001b[0;31m##  4  - planet-star area ratio\u001b[0m\u001b[0;34m\u001b[0m\u001b[0m\n",
      "\u001b[0;31mNameError\u001b[0m: name 'UP' is not defined"
     ]
    }
   ],
   "source": [
    "np.priors = [UP(  0.605,   0.615,   'tc'),  ##  0  - Transit centre\n",
    "                       NP(  1.306,   1e-7,     'p'),  ##  1  - Period\n",
    "                       UP(  1.500,   3.00,   'rho'),  ##  2  - Stellar density\n",
    "                       UP(  0.000,   0.99,     'b'),  ##  3  - Impact parameter\n",
    "                       UP( .15**2, .20**2,    'k2'),  ##  4  - planet-star area ratio\n",
    "                       UP(   1e-4,  10e-4,     'e'),  ##  5  - White noise std\n",
    "                       NP(    1.0,   0.01,     'c'),  ##  6  - Baseline constant\n",
    "                       NP(    0.0,   0.01,     'x', lims=(-0.1,0.1)),  ##  7  - Residual extinction coefficient\n",
    "                       UP(   -1.0,    1.0,     'u'),  ##  8  - limb darkening u\n",
    "                       UP(   -1.0,    1.0,     'v')]  ##  9  - limb darkening v"
   ]
  },
  {
   "cell_type": "code",
   "execution_count": 3,
   "metadata": {
    "collapsed": true
   },
   "outputs": [],
   "source": [
    "import scipy as np\n",
    "import math as mt"
   ]
  },
  {
   "cell_type": "code",
   "execution_count": 4,
   "metadata": {
    "collapsed": false
   },
   "outputs": [
    {
     "ename": "NameError",
     "evalue": "name 'UP' is not defined",
     "output_type": "error",
     "traceback": [
      "\u001b[0;31m---------------------------------------------------------------------------\u001b[0m",
      "\u001b[0;31mNameError\u001b[0m                                 Traceback (most recent call last)",
      "\u001b[0;32m<ipython-input-4-fc06cf13f72d>\u001b[0m in \u001b[0;36m<module>\u001b[0;34m()\u001b[0m\n\u001b[0;32m----> 1\u001b[0;31m np.priors = [UP(  0.605,   0.615,   'tc'),  ##  0  - Transit centre\n\u001b[0m\u001b[1;32m      2\u001b[0m                        \u001b[0mNP\u001b[0m\u001b[0;34m(\u001b[0m  \u001b[0;36m1.306\u001b[0m\u001b[0;34m,\u001b[0m   \u001b[0;36m1e-7\u001b[0m\u001b[0;34m,\u001b[0m     \u001b[0;34m'p'\u001b[0m\u001b[0;34m)\u001b[0m\u001b[0;34m,\u001b[0m  \u001b[0;31m##  1  - Period\u001b[0m\u001b[0;34m\u001b[0m\u001b[0m\n\u001b[1;32m      3\u001b[0m                        \u001b[0mUP\u001b[0m\u001b[0;34m(\u001b[0m  \u001b[0;36m1.500\u001b[0m\u001b[0;34m,\u001b[0m   \u001b[0;36m3.00\u001b[0m\u001b[0;34m,\u001b[0m   \u001b[0;34m'rho'\u001b[0m\u001b[0;34m)\u001b[0m\u001b[0;34m,\u001b[0m  \u001b[0;31m##  2  - Stellar density\u001b[0m\u001b[0;34m\u001b[0m\u001b[0m\n\u001b[1;32m      4\u001b[0m                        \u001b[0mUP\u001b[0m\u001b[0;34m(\u001b[0m  \u001b[0;36m0.000\u001b[0m\u001b[0;34m,\u001b[0m   \u001b[0;36m0.99\u001b[0m\u001b[0;34m,\u001b[0m     \u001b[0;34m'b'\u001b[0m\u001b[0;34m)\u001b[0m\u001b[0;34m,\u001b[0m  \u001b[0;31m##  3  - Impact parameter\u001b[0m\u001b[0;34m\u001b[0m\u001b[0m\n\u001b[1;32m      5\u001b[0m                        \u001b[0mUP\u001b[0m\u001b[0;34m(\u001b[0m \u001b[0;36m.15\u001b[0m\u001b[0;34m**\u001b[0m\u001b[0;36m2\u001b[0m\u001b[0;34m,\u001b[0m \u001b[0;36m.20\u001b[0m\u001b[0;34m**\u001b[0m\u001b[0;36m2\u001b[0m\u001b[0;34m,\u001b[0m    \u001b[0;34m'k2'\u001b[0m\u001b[0;34m)\u001b[0m\u001b[0;34m,\u001b[0m  \u001b[0;31m##  4  - planet-star area ratio\u001b[0m\u001b[0;34m\u001b[0m\u001b[0m\n",
      "\u001b[0;31mNameError\u001b[0m: name 'UP' is not defined"
     ]
    }
   ],
   "source": [
    "np.priors = [UP(  0.605,   0.615,   'tc'),  ##  0  - Transit centre\n",
    "                       NP(  1.306,   1e-7,     'p'),  ##  1  - Period\n",
    "                       UP(  1.500,   3.00,   'rho'),  ##  2  - Stellar density\n",
    "                       UP(  0.000,   0.99,     'b'),  ##  3  - Impact parameter\n",
    "                       UP( .15**2, .20**2,    'k2'),  ##  4  - planet-star area ratio\n",
    "                       UP(   1e-4,  10e-4,     'e'),  ##  5  - White noise std\n",
    "                       NP(    1.0,   0.01,     'c'),  ##  6  - Baseline constant\n",
    "                       NP(    0.0,   0.01,     'x', lims=(-0.1,0.1)),  ##  7  - Residual extinction coefficient\n",
    "                       UP(   -1.0,    1.0,     'u'),  ##  8  - limb darkening u\n",
    "                       UP(   -1.0,    1.0,     'v')]  ##  9  - limb darkening v"
   ]
  },
  {
   "cell_type": "code",
   "execution_count": 5,
   "metadata": {
    "collapsed": true
   },
   "outputs": [],
   "source": [
    "from numpy import array, ones, inf\n",
    "\n",
    "from pytransit import MandelAgol as MA\n",
    "from ldtk import LDPSetCreator\n",
    "from exotk.priors import UP, NP, PriorSet"
   ]
  },
  {
   "cell_type": "code",
   "execution_count": 6,
   "metadata": {
    "collapsed": true
   },
   "outputs": [],
   "source": [
    "np.priors = [UP(  0.605,   0.615,   'tc'),  ##  0  - Transit centre\n",
    "                       NP(  1.306,   1e-7,     'p'),  ##  1  - Period\n",
    "                       UP(  1.500,   3.00,   'rho'),  ##  2  - Stellar density\n",
    "                       UP(  0.000,   0.99,     'b'),  ##  3  - Impact parameter\n",
    "                       UP( .15**2, .20**2,    'k2'),  ##  4  - planet-star area ratio\n",
    "                       UP(   1e-4,  10e-4,     'e'),  ##  5  - White noise std\n",
    "                       NP(    1.0,   0.01,     'c'),  ##  6  - Baseline constant\n",
    "                       NP(    0.0,   0.01,     'x', lims=(-0.1,0.1)),  ##  7  - Residual extinction coefficient\n",
    "                       UP(   -1.0,    1.0,     'u'),  ##  8  - limb darkening u\n",
    "                       UP(   -1.0,    1.0,     'v')]  ##  9  - limb darkening v"
   ]
  },
  {
   "cell_type": "code",
   "execution_count": 7,
   "metadata": {
    "collapsed": false
   },
   "outputs": [
    {
     "ename": "NameError",
     "evalue": "name 'priors' is not defined",
     "output_type": "error",
     "traceback": [
      "\u001b[0;31m---------------------------------------------------------------------------\u001b[0m",
      "\u001b[0;31mNameError\u001b[0m                                 Traceback (most recent call last)",
      "\u001b[0;32m<ipython-input-7-145616edc424>\u001b[0m in \u001b[0;36m<module>\u001b[0;34m()\u001b[0m\n\u001b[0;32m----> 1\u001b[0;31m \u001b[0mpriors\u001b[0m\u001b[0;34m\u001b[0m\u001b[0m\n\u001b[0m",
      "\u001b[0;31mNameError\u001b[0m: name 'priors' is not defined"
     ]
    }
   ],
   "source": [
    "priors"
   ]
  },
  {
   "cell_type": "code",
   "execution_count": 8,
   "metadata": {
    "collapsed": false
   },
   "outputs": [
    {
     "data": {
      "text/plain": [
       "[<exotk.priors.UniformPrior at 0x110213610>,\n",
       " <exotk.priors.NormalPrior at 0x110213650>,\n",
       " <exotk.priors.UniformPrior at 0x110213690>,\n",
       " <exotk.priors.UniformPrior at 0x1102136d0>,\n",
       " <exotk.priors.UniformPrior at 0x110213710>,\n",
       " <exotk.priors.UniformPrior at 0x110213750>,\n",
       " <exotk.priors.NormalPrior at 0x110213790>,\n",
       " <exotk.priors.NormalPrior at 0x1102137d0>,\n",
       " <exotk.priors.UniformPrior at 0x110213810>,\n",
       " <exotk.priors.UniformPrior at 0x110213850>]"
      ]
     },
     "execution_count": 8,
     "metadata": {},
     "output_type": "execute_result"
    }
   ],
   "source": [
    "np.priors"
   ]
  },
  {
   "cell_type": "code",
   "execution_count": 9,
   "metadata": {
    "collapsed": true
   },
   "outputs": [],
   "source": [
    "np.array = [0,1,2,3,4,5,6]"
   ]
  },
  {
   "cell_type": "code",
   "execution_count": 10,
   "metadata": {
    "collapsed": false
   },
   "outputs": [
    {
     "data": {
      "text/plain": [
       "<function numpy.core.multiarray.array>"
      ]
     },
     "execution_count": 10,
     "metadata": {},
     "output_type": "execute_result"
    }
   ],
   "source": [
    "array"
   ]
  },
  {
   "cell_type": "code",
   "execution_count": 11,
   "metadata": {
    "collapsed": false
   },
   "outputs": [
    {
     "data": {
      "text/plain": [
       "[0, 1, 2, 3, 4, 5, 6]"
      ]
     },
     "execution_count": 11,
     "metadata": {},
     "output_type": "execute_result"
    }
   ],
   "source": [
    "np.array"
   ]
  },
  {
   "cell_type": "code",
   "execution_count": 13,
   "metadata": {
    "collapsed": false
   },
   "outputs": [
    {
     "data": {
      "text/plain": [
       "1"
      ]
     },
     "execution_count": 13,
     "metadata": {},
     "output_type": "execute_result"
    }
   ],
   "source": [
    "np.array[1]"
   ]
  },
  {
   "cell_type": "code",
   "execution_count": null,
   "metadata": {
    "collapsed": true
   },
   "outputs": [],
   "source": []
  }
 ],
 "metadata": {
  "kernelspec": {
   "display_name": "Python 2",
   "language": "python",
   "name": "python2"
  },
  "language_info": {
   "codemirror_mode": {
    "name": "ipython",
    "version": 2
   },
   "file_extension": ".py",
   "mimetype": "text/x-python",
   "name": "python",
   "nbconvert_exporter": "python",
   "pygments_lexer": "ipython2",
   "version": "2.7.6"
  }
 },
 "nbformat": 4,
 "nbformat_minor": 0
}
