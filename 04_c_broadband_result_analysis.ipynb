{
 "cells": [
  {
   "cell_type": "markdown",
   "metadata": {},
   "source": [
    "# Parameter estimation from the broadband light curve assuming red noise "
   ]
  },
  {
   "cell_type": "code",
   "execution_count": 1,
   "metadata": {
    "collapsed": false
   },
   "outputs": [
    {
     "name": "stdout",
     "output_type": "stream",
     "text": [
      "Populating the interactive namespace from numpy and matplotlib\n"
     ]
    }
   ],
   "source": [
    "%pylab inline"
   ]
  },
  {
   "cell_type": "code",
   "execution_count": 14,
   "metadata": {
    "collapsed": false
   },
   "outputs": [],
   "source": [
    "import math as mt\n",
    "import pandas as pd\n",
    "import seaborn as sb\n",
    "from pandas import HDFStore\n",
    "from mpl_toolkits.axes_grid1 import make_axes_locatable\n",
    "\n",
    "from core import *"
   ]
  },
  {
   "cell_type": "code",
   "execution_count": 73,
   "metadata": {
    "collapsed": false
   },
   "outputs": [],
   "source": [
    "fwn = pd.read_hdf('results/pe.h5','bb/wn_nomask')\n",
    "fwm = pd.read_hdf('results/pe.h5','bb/wn_masked')\n",
    "frn = pd.read_hdf('results/pe.h5','bb/rn_nomask')\n",
    "frm = pd.read_hdf('results/pe.h5','bb/rn_masked')"
   ]
  },
  {
   "cell_type": "code",
   "execution_count": 74,
   "metadata": {
    "collapsed": false
   },
   "outputs": [],
   "source": [
    "pe = pd.Panel(dict(wn = pd.read_hdf('results/pe.h5','bb/wn_nomask'),\n",
    "                   wm = pd.read_hdf('results/pe.h5','bb/wn_masked'),\n",
    "                   rn = pd.read_hdf('results/pe.h5','bb/rn_nomask'),\n",
    "                   rm = pd.read_hdf('results/pe.h5','bb/rn_masked')))"
   ]
  },
  {
   "cell_type": "markdown",
   "metadata": {},
   "source": [
    "## Plots "
   ]
  },
  {
   "cell_type": "code",
   "execution_count": 78,
   "metadata": {
    "collapsed": false
   },
   "outputs": [
    {
     "data": {
      "image/png": "[encoded data removed]",
      "text/plain": [
       "<matplotlib.figure.Figure at 0x7f729c9f2bd0>"
      ]
     },
     "metadata": {},
     "output_type": "display_data"
    }
   ],
   "source": [
    "def hexbin2(fig, ax, a1, a2, b1, b2, alim, blim, gs):\n",
    "    h1 = ax.hexbin(a1, b1, extent=(alim[0],alim[1],blim[0],blim[1]), \n",
    "                   gridsize=gs, cmap=plt.cm.Blues)\n",
    "    h2 = ax.hexbin(a2, b2, extent=(alim[0],alim[1],blim[0],blim[1]), \n",
    "                   gridsize=gs, cmap=plt.cm.Greens)\n",
    "    fig.canvas.draw()\n",
    "    fc = h1.get_facecolors() + h2.get_facecolors()\n",
    "    fc *= 0.5\n",
    "    fc[fc[:,:3].sum(1)>2.9,:] = array([1,1,1,1])\n",
    "    h2.set_facecolors(fc)\n",
    "    fig.canvas.draw()\n",
    "    ax.set_xlim(*klim)\n",
    "    ax.set_ylim(*blim)\n",
    "   \n",
    "cn, cm = cp[2], cp[3]\n",
    "klim = (0.159,0.18)\n",
    "blim = (0.810,0.875)\n",
    "msize, mpad = 0.55, 0.05\n",
    "\n",
    "with sb.plotting_context('paper', rc=rc_paper):\n",
    "    fig, axs = subplots(1,2, figsize=(AAPGW,0.75*AAOCW), sharey=True, sharex=True)\n",
    "    divs = [make_axes_locatable(ax) for ax in axs]\n",
    "    axhys = [div.append_axes('top',   size=msize, pad=mpad, sharex=axs[i]) for i,div in enumerate(divs)]\n",
    "    axhxs = [div.append_axes('right', size=msize, pad=mpad, sharey=axs[i]) for i,div in enumerate(divs)]\n",
    "\n",
    "    hexbin2(fig, axs[0], fwn.k, fwm.k, fwn.b, fwm.b, klim, blim, 25)\n",
    "    hexbin2(fig, axs[1], frn.k, frm.k, frn.b, frm.b, klim, blim, 25)\n",
    "\n",
    "    axhys[0].hist(fwn.k,  bins=30, range=klim, alpha=0.5, normed=True, fc=cn)\n",
    "    axhys[0].hist(fwm.k,  bins=30, range=klim, alpha=0.5, normed=True, fc=cm)\n",
    "    axhxs[0].hist(fwn.b,  bins=30, range=blim, alpha=0.5, orientation='horizontal', normed=True, fc=cn)\n",
    "    axhxs[0].hist(fwm.b,  bins=30, range=blim, alpha=0.5, orientation='horizontal', normed=True, fc=cm)\n",
    "    axhys[1].hist(frn.k,  bins=30, range=klim, alpha=0.5, normed=True, fc=cn)\n",
    "    axhys[1].hist(frm.k,  bins=30, range=klim, alpha=0.5, normed=True, fc=cm)\n",
    "    axhxs[1].hist(frn.b,  bins=30, range=blim, alpha=0.5, orientation='horizontal', normed=True, fc=cn)\n",
    "    axhxs[1].hist(frm.b,  bins=30, range=blim, alpha=0.5, orientation='horizontal', normed=True, fc=cm)\n",
    "\n",
    "    setp(axhys[0].get_yticklabels()+axhys[1].get_yticklabels(), visible=False)\n",
    "    setp(axhys[0].get_xticklabels()+axhys[1].get_xticklabels(), visible=False)\n",
    "    setp(axhxs[0].get_yticklabels()+axhxs[1].get_yticklabels(), visible=False)\n",
    "    setp(axhxs[0].get_xticklabels()+axhxs[1].get_xticklabels(), visible=False)\n",
    "\n",
    "    [sb.despine(ax=a, left=True) for a in axhys]\n",
    "    [sb.despine(ax=a, bottom=True) for a in axhxs]\n",
    "\n",
    "    axs[0].text(0.05, 0.9, 'White noise', size=8, transform=axs[0].transAxes)\n",
    "    axs[1].text(0.05, 0.9, 'Red noise (GP)', size=8, transform=axs[1].transAxes)\n",
    "\n",
    "    setp(axs[0], xlim=(0.159,0.18), ylim=blim)\n",
    "    setp(axhxs, ylim=blim)\n",
    "    setp(axs[0], xlabel='Radius ratio', ylabel='Impact parameter')\n",
    "    setp(axs[1], xlabel='Radius ratio')\n",
    "    fig.tight_layout()\n",
    "    fig.savefig('plots/pub_white_k_and_b.pdf')"
   ]
  },
  {
   "cell_type": "code",
   "execution_count": 79,
   "metadata": {
    "collapsed": false
   },
   "outputs": [],
   "source": [
    "def get_range(p):\n",
    "    pn = percentile(dfn[p], [0.25,99.75])\n",
    "    pm = percentile(dfm[p], [0.25,99.75])\n",
    "    return [min(pn[0],pm[0]),max(pn[1],pm[1])]"
   ]
  },
  {
   "cell_type": "code",
   "execution_count": 80,
   "metadata": {
    "collapsed": false
   },
   "outputs": [
    {
     "ename": "NameError",
     "evalue": "name 'dfn' is not defined",
     "output_type": "error",
     "traceback": [
      "\u001b[1;31m---------------------------------------------------------------------------\u001b[0m",
      "\u001b[1;31mNameError\u001b[0m                                 Traceback (most recent call last)",
      "\u001b[1;32m<ipython-input-80-f3d213433af0>\u001b[0m in \u001b[0;36m<module>\u001b[1;34m()\u001b[0m\n\u001b[1;32m----> 1\u001b[1;33m \u001b[0mdfn\u001b[0m\u001b[1;33m[\u001b[0m\u001b[1;34m'e_ppm'\u001b[0m\u001b[1;33m]\u001b[0m \u001b[1;33m=\u001b[0m \u001b[1;36m1e6\u001b[0m\u001b[1;33m*\u001b[0m\u001b[0mdfn\u001b[0m\u001b[1;33m.\u001b[0m\u001b[0me\u001b[0m\u001b[1;33m\u001b[0m\u001b[0m\n\u001b[0m\u001b[0;32m      2\u001b[0m \u001b[0mdfm\u001b[0m\u001b[1;33m[\u001b[0m\u001b[1;34m'e_ppm'\u001b[0m\u001b[1;33m]\u001b[0m \u001b[1;33m=\u001b[0m \u001b[1;36m1e6\u001b[0m\u001b[1;33m*\u001b[0m\u001b[0mdfm\u001b[0m\u001b[1;33m.\u001b[0m\u001b[0me\u001b[0m\u001b[1;33m\u001b[0m\u001b[0m\n\u001b[0;32m      3\u001b[0m \u001b[1;33m\u001b[0m\u001b[0m\n\u001b[0;32m      4\u001b[0m \u001b[0mpars\u001b[0m \u001b[1;33m=\u001b[0m \u001b[1;34m'tc rho b k e_ppm c x u v'\u001b[0m\u001b[1;33m.\u001b[0m\u001b[0msplit\u001b[0m\u001b[1;33m(\u001b[0m\u001b[1;33m)\u001b[0m\u001b[1;33m\u001b[0m\u001b[0m\n\u001b[0;32m      5\u001b[0m \u001b[0mcp\u001b[0m \u001b[1;33m=\u001b[0m \u001b[0msb\u001b[0m\u001b[1;33m.\u001b[0m\u001b[0mcolor_palette\u001b[0m\u001b[1;33m(\u001b[0m\u001b[1;33m)\u001b[0m\u001b[1;33m\u001b[0m\u001b[0m\n",
      "\u001b[1;31mNameError\u001b[0m: name 'dfn' is not defined"
     ]
    }
   ],
   "source": [
    "dfn['e_ppm'] = 1e6*dfn.e\n",
    "dfm['e_ppm'] = 1e6*dfm.e\n",
    "\n",
    "pars = 'tc rho b k e_ppm c x u v'.split()\n",
    "cp = sb.color_palette()\n",
    "\n",
    "with sb.axes_style('ticks'):\n",
    "    fig,axs = subplots(3,3,figsize=(14,8))\n",
    "    for i,p in enumerate(pars):\n",
    "        rng = get_range(p)\n",
    "        dfn[p].hist(ax=axs.flat[i], fc=cp[0], range=rng, label='no mask', grid=False, alpha=0.75)\n",
    "        dfm[p].hist(ax=axs.flat[i], fc=cp[1], range=rng, label='masked', grid=False, alpha=0.75)\n",
    "        setp(axs.flat[i].get_yticklabels(), visible=False)\n",
    "    axs.flat[0].legend()\n",
    "    sb.despine(fig)\n",
    "    fig.tight_layout()"
   ]
  },
  {
   "cell_type": "code",
   "execution_count": 65,
   "metadata": {
    "collapsed": false
   },
   "outputs": [
    {
     "data": {
      "text/plain": [
       "(0.60948117151973302, 3.7324619389600411e-05)"
      ]
     },
     "execution_count": 65,
     "metadata": {},
     "output_type": "execute_result"
    }
   ],
   "source": [
    "def estimate(d):\n",
    "    p = array(percentile(d, [50,16,84]))\n",
    "    return p[0], abs(p[1:]-p[0]).mean()\n",
    "\n",
    "estimate(pe.wn.tc)"
   ]
  },
  {
   "cell_type": "code",
   "execution_count": null,
   "metadata": {
    "collapsed": true
   },
   "outputs": [],
   "source": [
    "time       = lpfw.lpf.time\n",
    "flux_o     = lpfw.lpf.flux.ravel()\n",
    "flux_m     = est_model[0,:]\n",
    "residuals  = flux_o - flux_m"
   ]
  },
  {
   "cell_type": "code",
   "execution_count": null,
   "metadata": {
    "collapsed": true
   },
   "outputs": [],
   "source": [
    "fig,ax = subplots(1,1, figsize=(AAOCW,0.65*AAOCW))\n",
    "ax.plot(time, flux_o, '.', c=c_bo, alpha=0.25, ms=5.5)\n",
    "ax.plot(time, flux_o, '.', c=c_bo, alpha=0.5, ms=4.5, markeredgecolor=c_bo)\n",
    "ax.fill_between(time, *est_model[1:,:], alpha=0.2)\n",
    "ax.plot(time, est_baseline[0,:], '--', c=c_ob, lw=1)\n",
    "ax.plot(time, est_model[0,:], '-', c=c_ob, alpha=0.5, lw=1)\n",
    "ax.axhline(0.97, ls='-', alpha=0.5, c=c_bo)\n",
    "ax.plot(time, residuals+0.97, '-', c=c_ob, drawstyle='steps-mid', lw=1)\n",
    "setp(ax, xlim=df.time[[0,224]], ylabel='Normalised flux', xlabel='JD - {:d} [d]'.format(int(df.jd[0])), \n",
    "     yticks=[0.97,0.98,0.99,1.0])\n",
    "fig.tight_layout()\n",
    "fig.savefig('plots/white_lc_and_model.pdf')"
   ]
  },
  {
   "cell_type": "code",
   "execution_count": null,
   "metadata": {
    "collapsed": true
   },
   "outputs": [],
   "source": [
    "lpfr.gp.kernel = fcr[0,10]**2*ExpKernel(1./10**fcr[0,11])\n",
    "lpfr.gp.compute(lpfr.lpf.time, fcr[0,5])\n",
    "\n",
    "obs,mod,bsl,gpm = [],[],[],[]\n",
    "for pv in permutation(fcr)[:100]:\n",
    "    obs.append(lpfr.lpf.normalize_flux(pv).ravel())\n",
    "    bsl.append(lpfr.lpf.compute_baseline(pv).ravel())\n",
    "    mod.append(lpfr.lpf.compute_lc_model(pv).ravel())\n",
    "    gpm.append(lpfr.gp.predict(obs[-1]-mod[-1], time.ravel(), mean_only=True))\n",
    "obs,mod,bsl,gpm = map(array, [obs,mod,bsl,gpm])"
   ]
  },
  {
   "cell_type": "code",
   "execution_count": null,
   "metadata": {
    "collapsed": true
   },
   "outputs": [],
   "source": [
    "fig, ax = subplots(1,1, figsize=(AAOCW,0.65*AAOCW))\n",
    "em1 = array(percentile(mod+gpm, [16,84], 0))\n",
    "em2 = array(percentile(mod+gpm, [2.5,97.5], 0))\n",
    "fill_between(time, *em2, alpha=0.15, facecolor=c_ob)\n",
    "fill_between(time, *em1, alpha=0.25, facecolor=c_ob)\n",
    "ax.plot(time, median(mod+gpm, 0), c=c_ob, lw=0.5);\n",
    "ax.plot(time, median(obs,0),'k.', ms=4.5);\n",
    "ax.plot(time, median(obs,0),'w.', ms=3);\n",
    "ax.plot(time, median(obs,0)-median(mod+gpm, 0)+0.97, 'k.', ms=3)\n",
    "setp(ax, xlim=time[[3,-1]], xlabel='JD - 2456846 [d]', ylabel='Normalised flux', \n",
    "     yticks=linspace(0.97,1.0,4))\n",
    "fig.tight_layout()\n",
    "fig.savefig('plots/white_lc_and_model_gp.pdf')"
   ]
  },
  {
   "cell_type": "markdown",
   "metadata": {},
   "source": [
    "---\n",
    "<center> &copy; 2015 <a href=\"mailto:hannu.parviainen@physics.ox.ac.uk\">Hannu Parviainen</a></center>"
   ]
  }
 ],
 "metadata": {
  "kernelspec": {
   "display_name": "Python 2",
   "language": "python",
   "name": "python2"
  },
  "language_info": {
   "codemirror_mode": {
    "name": "ipython",
    "version": 2
   },
   "file_extension": ".py",
   "mimetype": "text/x-python",
   "name": "python",
   "nbconvert_exporter": "python",
   "pygments_lexer": "ipython2",
   "version": "2.7.3"
  }
 },
 "nbformat": 4,
 "nbformat_minor": 0
}
